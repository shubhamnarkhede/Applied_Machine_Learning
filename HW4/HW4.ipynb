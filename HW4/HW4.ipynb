{
 "cells": [
  {
   "cell_type": "markdown",
   "metadata": {},
   "source": [
    "**Question 1 – Programming (80 points):**\n",
    "In this programming problem, you will get familiar with building a neural network using\n",
    "backpropagation. You will write a program that learns how to recognize the handwritten digits using\n",
    "stochastic gradient descent and the MNIST training data.\n",
    "The MNIST database (Modified National Institute of Standards and Technology database is a large\n",
    "database of handwritten digits that is commonly used for training various image processing systems\n"
   ]
  },
  {
   "cell_type": "markdown",
   "metadata": {},
   "source": [
    "\n",
    "**Step 1 Data Acquisition and Visualization (10 pts):**\n",
    "\n",
    "\n",
    "In this step, you need to:\n",
    "(a) Download the “MNIST” dataset and extract the files. You will get four files with extension .gz\n",
    "\n",
    "(e.g., train-images-idx3-ubyte.gz). You can use the provided function read_idx below to read in\n",
    "the dataset. As its official description, the dataset is split into 60000 training images and 10000\n",
    "images. The four file corresponds to the training images, training labels, testing images and\n",
    "testing labels. You need to print out their shape to finish this step. (5 pts)"
   ]
  },
  {
   "cell_type": "code",
   "execution_count": 3,
   "metadata": {},
   "outputs": [],
   "source": [
    "import gzip\n",
    "import struct\n",
    "import numpy as np\n",
    "\n",
    "def read_idx(filename):\n",
    "    with gzip.open(filename, 'rb') as f:\n",
    "        zero, data_type, dims = struct.unpack('>HBB', f.read(4))\n",
    "        shape = tuple(struct.unpack('>I', f.read(4))[0] for d in range(dims))\n",
    "        return np.frombuffer(f.read(), dtype=np.uint8).reshape(shape)\n"
   ]
  },
  {
   "cell_type": "code",
   "execution_count": 4,
   "metadata": {},
   "outputs": [
    {
     "name": "stdout",
     "output_type": "stream",
     "text": [
      "Training Images Shape: (60000, 28, 28)\n",
      "Training Labels Shape: (60000,)\n",
      "Test Images Shape: (10000, 28, 28)\n",
      "Test Labels Shape: (10000,)\n"
     ]
    }
   ],
   "source": [
    "\n",
    "# File paths for the dataset\n",
    "train_images_path = 'data/train-images-idx3-ubyte.gz'\n",
    "train_labels_path = 'data/train-labels-idx1-ubyte.gz'\n",
    "test_images_path = 'data/t10k-images-idx3-ubyte.gz'\n",
    "test_labels_path = 'data/t10k-labels-idx1-ubyte.gz'\n",
    "\n",
    "# Read the dataset files\n",
    "train_images = read_idx(train_images_path)\n",
    "train_labels = read_idx(train_labels_path)\n",
    "test_images = read_idx(test_images_path)\n",
    "test_labels = read_idx(test_labels_path)\n",
    "\n",
    "# Reshape and print the shapes of the datasets\n",
    "print(\"Training Images Shape:\", train_images.shape)\n",
    "print(\"Training Labels Shape:\", train_labels.shape)\n",
    "print(\"Test Images Shape:\", test_images.shape)\n",
    "print(\"Test Labels Shape:\", test_labels.shape)\n"
   ]
  },
  {
   "cell_type": "markdown",
   "metadata": {},
   "source": [
    "B) To further understand what the dataset is, you need to use the ‘matplotlib’ library to print out a \n",
    "random data with code plt.imshow together with its label.(5 pts) You will see something like \n",
    "this:"
   ]
  },
  {
   "cell_type": "code",
   "execution_count": 5,
   "metadata": {},
   "outputs": [
    {
     "data": {
      "image/png": "[encoded data removed]",
      "text/plain": [
       "<Figure size 640x480 with 1 Axes>"
      ]
     },
     "metadata": {},
     "output_type": "display_data"
    }
   ],
   "source": [
    "import matplotlib.pyplot as plt\n",
    "import random\n",
    "\n",
    "# Get a random index to select a random image and its label\n",
    "random_index = random.randint(0, len(train_images))\n",
    "\n",
    "# Select the image and its label\n",
    "random_image = train_images[random_index]\n",
    "random_label = train_labels[random_index]\n",
    "\n",
    "# Reshape the image into a 28x28 format (assuming it's the MNIST image size)\n",
    "random_image = random_image.reshape(28, 28)\n",
    "\n",
    "# Plot the image using plt.imshow\n",
    "plt.imshow(random_image, cmap='gray')\n",
    "plt.title(f'Label: {random_label}')\n",
    "plt.axis('off')  # Turn off axis\n",
    "plt.show()\n"
   ]
  }
 ],
 "metadata": {
  "kernelspec": {
   "display_name": "Python 3",
   "language": "python",
   "name": "python3"
  },
  "language_info": {
   "codemirror_mode": {
    "name": "ipython",
    "version": 3
   },
   "file_extension": ".py",
   "mimetype": "text/x-python",
   "name": "python",
   "nbconvert_exporter": "python",
   "pygments_lexer": "ipython3",
   "version": "3.10.11"
  }
 },
 "nbformat": 4,
 "nbformat_minor": 2
}
